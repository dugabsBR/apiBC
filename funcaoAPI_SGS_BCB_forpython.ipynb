{
 "cells": [
  {
   "cell_type": "markdown",
   "id": "01eb6a13",
   "metadata": {},
   "source": [
    "# Função Para Carregar Dados da API do BCB"
   ]
  },
  {
   "cell_type": "markdown",
   "id": "5f85dc2e",
   "metadata": {},
   "source": [
    "## Carregando as Bibliotecas"
   ]
  },
  {
   "cell_type": "code",
   "execution_count": 1,
   "id": "11c1b285",
   "metadata": {},
   "outputs": [],
   "source": [
    "import pandas as pd"
   ]
  },
  {
   "cell_type": "markdown",
   "id": "74c9b848",
   "metadata": {},
   "source": [
    "## Função para coletar dados direto do BCB"
   ]
  },
  {
   "cell_type": "code",
   "execution_count": 4,
   "id": "920041de",
   "metadata": {},
   "outputs": [],
   "source": [
    "def consulta_SGSbc(serialcode, initialdate, finaldate):\n",
    "    # Formatando a URL para o requerimento\n",
    "    url = 'http://api.bcb.gov.br/dados/serie/bcdata.sgs.{}/dados?formato=json&dataInicial={}&dataFinal={}'.format(serialcode, initialdate, finaldate)\n",
    "    # Recebendo e transformando os dados json em um DataFrame\n",
    "    df = pd.read_json(url)\n",
    "    return df"
   ]
  },
  {
   "cell_type": "markdown",
   "id": "98f63e87",
   "metadata": {},
   "source": [
    "Na função para consultar séries temporais do Banco Central, informar: <br />\n",
    "    -> Primeiro informar o código da série (consultar código em https://www3.bcb.gov.br/sgspub/localizarseries/localizarSeries.do?method=prepararTelaLocalizarSeries) <br />\n",
    "    -> Segundo informar a data inicial no formato dd/MM/aaaa <br />\n",
    "    -> Terceiro informar a data final no formato dd/MM/aaaa"
   ]
  },
  {
   "cell_type": "code",
   "execution_count": 8,
   "id": "589b1425",
   "metadata": {},
   "outputs": [
    {
     "data": {
      "text/html": [
       "<div>\n",
       "<style scoped>\n",
       "    .dataframe tbody tr th:only-of-type {\n",
       "        vertical-align: middle;\n",
       "    }\n",
       "\n",
       "    .dataframe tbody tr th {\n",
       "        vertical-align: top;\n",
       "    }\n",
       "\n",
       "    .dataframe thead th {\n",
       "        text-align: right;\n",
       "    }\n",
       "</style>\n",
       "<table border=\"1\" class=\"dataframe\">\n",
       "  <thead>\n",
       "    <tr style=\"text-align: right;\">\n",
       "      <th></th>\n",
       "      <th>data</th>\n",
       "      <th>valor</th>\n",
       "    </tr>\n",
       "  </thead>\n",
       "  <tbody>\n",
       "    <tr>\n",
       "      <th>0</th>\n",
       "      <td>30/12/2011</td>\n",
       "      <td>0.041099</td>\n",
       "    </tr>\n",
       "    <tr>\n",
       "      <th>1</th>\n",
       "      <td>02/01/2012</td>\n",
       "      <td>0.041063</td>\n",
       "    </tr>\n",
       "    <tr>\n",
       "      <th>2</th>\n",
       "      <td>03/01/2012</td>\n",
       "      <td>0.041063</td>\n",
       "    </tr>\n",
       "    <tr>\n",
       "      <th>3</th>\n",
       "      <td>04/01/2012</td>\n",
       "      <td>0.041063</td>\n",
       "    </tr>\n",
       "    <tr>\n",
       "      <th>4</th>\n",
       "      <td>05/01/2012</td>\n",
       "      <td>0.041063</td>\n",
       "    </tr>\n",
       "    <tr>\n",
       "      <th>...</th>\n",
       "      <td>...</td>\n",
       "      <td>...</td>\n",
       "    </tr>\n",
       "    <tr>\n",
       "      <th>2529</th>\n",
       "      <td>25/01/2022</td>\n",
       "      <td>0.034749</td>\n",
       "    </tr>\n",
       "    <tr>\n",
       "      <th>2530</th>\n",
       "      <td>26/01/2022</td>\n",
       "      <td>0.034749</td>\n",
       "    </tr>\n",
       "    <tr>\n",
       "      <th>2531</th>\n",
       "      <td>27/01/2022</td>\n",
       "      <td>0.034749</td>\n",
       "    </tr>\n",
       "    <tr>\n",
       "      <th>2532</th>\n",
       "      <td>28/01/2022</td>\n",
       "      <td>0.034749</td>\n",
       "    </tr>\n",
       "    <tr>\n",
       "      <th>2533</th>\n",
       "      <td>31/01/2022</td>\n",
       "      <td>0.034749</td>\n",
       "    </tr>\n",
       "  </tbody>\n",
       "</table>\n",
       "<p>2534 rows × 2 columns</p>\n",
       "</div>"
      ],
      "text/plain": [
       "            data     valor\n",
       "0     30/12/2011  0.041099\n",
       "1     02/01/2012  0.041063\n",
       "2     03/01/2012  0.041063\n",
       "3     04/01/2012  0.041063\n",
       "4     05/01/2012  0.041063\n",
       "...          ...       ...\n",
       "2529  25/01/2022  0.034749\n",
       "2530  26/01/2022  0.034749\n",
       "2531  27/01/2022  0.034749\n",
       "2532  28/01/2022  0.034749\n",
       "2533  31/01/2022  0.034749\n",
       "\n",
       "[2534 rows x 2 columns]"
      ]
     },
     "metadata": {},
     "output_type": "display_data"
    }
   ],
   "source": [
    "# Aqui como exemplo estou pegando os dados da taxa Selic\n",
    "\n",
    "Selic = consulta_SGSbc(11, '01/01/2012', '31/01/2022' )\n",
    "display(Selic)"
   ]
  }
 ],
 "metadata": {
  "kernelspec": {
   "display_name": "Python 3",
   "language": "python",
   "name": "python3"
  },
  "language_info": {
   "codemirror_mode": {
    "name": "ipython",
    "version": 3
   },
   "file_extension": ".py",
   "mimetype": "text/x-python",
   "name": "python",
   "nbconvert_exporter": "python",
   "pygments_lexer": "ipython3",
   "version": "3.8.8"
  }
 },
 "nbformat": 4,
 "nbformat_minor": 5
}
